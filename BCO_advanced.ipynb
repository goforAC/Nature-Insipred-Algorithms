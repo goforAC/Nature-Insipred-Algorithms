{
 "cells": [
  {
   "cell_type": "code",
   "execution_count": null,
   "metadata": {
    "collapsed": true
   },
   "outputs": [],
   "source": [
    "import numpy as np\n",
    "import pandas as pd\n",
    "import random\n",
    "import copy"
   ]
  },
  {
   "cell_type": "markdown",
   "metadata": {},
   "source": [
    "the algorithm parameters which need to be set prior to the algorithm are :    \n",
    "B = number of bees    \n",
    "NC = number of constructive moves during one forward pass     "
   ]
  },
  {
   "cell_type": "code",
   "execution_count": null,
   "metadata": {
    "collapsed": true
   },
   "outputs": [],
   "source": [
    "B = 10\n",
    "NC = 25"
   ]
  },
  {
   "cell_type": "markdown",
   "metadata": {},
   "source": [
    "## helper functions for (partial) solution improvement variations"
   ]
  },
  {
   "cell_type": "code",
   "execution_count": null,
   "metadata": {
    "collapsed": true
   },
   "outputs": [],
   "source": [
    "def swap(x, idx1, idx2):\n",
    "    l = x.copy()\n",
    "    l[idx1], l[idx2] = l[idx2], l[idx1]\n",
    "    return l\n",
    "\n",
    "#Creates transposition neighbourhood for x\n",
    "def transposes(x):\n",
    "    #neighbours of same number of selected objects\n",
    "    a = [ swap(x, i, j) for i in range(len(x)) for j in range(i+1, len(x)) ]\n",
    "    return  a\n",
    "def swaps(x):\n",
    "    #neighbours of same number of selected objects\n",
    "    a = [ swap(x, i, (i+1)%len(x)) for i in range(len(x)) ] \n",
    "    return  a\n",
    "\n",
    "# Hill_Climbing transposition neighbourhood\n",
    "def hc_t(a, distances):\n",
    "    threshold = 80  # threshold for neigborhood mode  \n",
    "\n",
    "    while True:\n",
    "        if len(a) < threshold:\n",
    "            neighbours = transposes(a) # create full transposition neighbourhood\n",
    "        else:\n",
    "            neighbours = swaps(a)\n",
    "        if not neighbours: break\n",
    "        costs = objective_function(distances, neighbours) \n",
    "        \n",
    "        if min(costs) >= objective_function(distances, [a]): break\n",
    "        a = neighbours[costs.index(min(costs))]\n",
    "    return a  # solution, optimal performance/gain we get"
   ]
  },
  {
   "cell_type": "code",
   "execution_count": null,
   "metadata": {
    "collapsed": true
   },
   "outputs": [],
   "source": [
    "# all bees start at a hive"
   ]
  },
  {
   "cell_type": "markdown",
   "metadata": {},
   "source": [
    "### Initialization --> every bee is set to an empty solution"
   ]
  },
  {
   "cell_type": "markdown",
   "metadata": {},
   "source": [
    "## forward pass    \n",
    "1. set k = 1 // counter for constructive moves in the forward pass    \n",
    "2. evaluate all possible construcive moves    \n",
    "3. according to evaluation, chose one move using roulette wheel    \n",
    "4. k = k+1; If k<= NC go to step 2.     "
   ]
  },
  {
   "cell_type": "code",
   "execution_count": null,
   "metadata": {
    "collapsed": true
   },
   "outputs": [],
   "source": [
    "def forward_pass(NC, bee, costs):\n",
    "    k = 0\n",
    "    while k < NC:\n",
    "        if not bee:\n",
    "                starting_node = random.choice(range(costs.shape[0]))\n",
    "                bee.append(starting_node)\n",
    "                \n",
    "        if k == 0:\n",
    "            not_visited = [ind for ind in range(costs.shape[0]) if not(ind in bee)]\n",
    "        \n",
    "        next_node = roulette_wheel(costs[bee[-1],[not_visited]]) #[-1] is the last element of the list\n",
    "        current_node = not_visited[next_node]\n",
    "        bee.append(current_node)\n",
    "        k = k+1\n",
    "        del not_visited[next_node]\n",
    "    return not_visited, bee"
   ]
  },
  {
   "cell_type": "code",
   "execution_count": null,
   "metadata": {
    "collapsed": true
   },
   "outputs": [],
   "source": [
    "def roulette_wheel(costs):\n",
    "    costs_new = 1 / np.array(costs) # to turn around scaling\n",
    "    normalized_costs = costs_new / np.sum(costs_new)\n",
    "    bins = np.cumsum(normalized_costs)# returns an array of same length. At each spot is gives the sum of all alements before added up\n",
    "    roulette_value = [np.random.uniform(0,1)] # draw random value between 0 and 1 \n",
    "    index_next_node = np.digitize(roulette_value, bins)[0]  # states in which bin the value belongs\n",
    "    return(index_next_node)"
   ]
  },
  {
   "cell_type": "markdown",
   "metadata": {
    "collapsed": true
   },
   "source": [
    "# all bees are back to hive"
   ]
  },
  {
   "cell_type": "markdown",
   "metadata": {},
   "source": [
    "## backward pass    \n",
    "sort the bees by their objective function values    \n",
    "every bee decides randomly if she continues its own exploration or follows another one (higher value higher prob for staying)    \n",
    "for every follower: choose a new solution from recruiter by roulette wheel    \n",
    "if stopping condition is not met go to forward pass    \n",
    "else output best result    "
   ]
  },
  {
   "cell_type": "code",
   "execution_count": null,
   "metadata": {
    "collapsed": true,
    "scrolled": true
   },
   "outputs": [],
   "source": [
    "def backward_pass(costs, bees, count):\n",
    "    objective_value = objective_function(costs, bees)\n",
    "    best_bees = []\n",
    "    sort_bee_indices = np.argsort(objective_value)\n",
    "    best_bees_index = np.array(sort_bee_indices[0:round(B*0.7)])  # keep the best 70% solutions \n",
    "\n",
    "    best_bees.append([bees[i] for i in best_bees_index])\n",
    "\n",
    "    flat_best_bees = [item for sublist in best_bees for item in sublist]\n",
    "    objective_values = objective_function(costs, flat_best_bees)\n",
    "\n",
    "    highest_bee = np.max(objective_value)\n",
    "    lowest_bee = np.min(objective_value)\n",
    "    \n",
    "    O_bee = []\n",
    "    #normalize: C_max - C_bee / C_max - C_min\n",
    "    for i, bee in enumerate(flat_best_bees):\n",
    "        O_bee.append((highest_bee - objective_value[i]) / (highest_bee - lowest_bee))\n",
    "\n",
    "    O_max = np.max(O_bee)\n",
    "     \n",
    "    # Loyaliy\n",
    "    # calculate random number between 0 and 1. If the number is < probability it stays loyal else uncommitted\n",
    "    loyalty_bee = [[] for i in range(costs.shape[0])]\n",
    "    \n",
    "    # bees with very good solutions stay on their path, no matter what\n",
    "    for i in np.array(sort_bee_indices[0:round(B*0.1)]):\n",
    "        loyalty_bee[i] = 0\n",
    "    \n",
    "    for i, bee in enumerate(flat_best_bees[round(B*0.1)+1:round(B*0.7)]):\n",
    "        # probability to be loyal for average bees\n",
    "        probability = np.exp(-(O_max - O_bee[i])/ count)\n",
    "        loyalty_value = np.random.uniform(0,1)\n",
    "        if probability >= loyalty_value:\n",
    "            loyalty_bee[i] = 1  # stays loyal\n",
    "        else:\n",
    "            loyalty_bee[i] = 0 # becomes uncomitted\n",
    "    # bees with bad solutions become followers no matter what\n",
    "    for i in np.array(sort_bee_indices[round(B*0.7)+1:B-1]):\n",
    "        loyalty_bee[i] = 0\n",
    "        \n",
    "            \n",
    "    # recruitment\n",
    "    # for all bees with value zero: perform roulette wheel (given all best bees) to find recrouter\n",
    "    # recrouters_index = [i for i, e in enumerate(loyalty_bee) if e != 0]\n",
    "    recrouters = [objective_value[i] for i in best_bees_index]\n",
    "    for index, item in enumerate(loyalty_bee):\n",
    "        if item == 0:\n",
    "            recrouter = roulette_wheel(recrouters) # only the bees with the 70% best (partial) solutions are put in the roulette wheel\n",
    "            bees[index] = copy.copy(bees[best_bees_index[recrouter]]) # give the bee the same partial solution its recrouter has\n",
    "    return bees"
   ]
  },
  {
   "cell_type": "code",
   "execution_count": null,
   "metadata": {
    "collapsed": true
   },
   "outputs": [],
   "source": [
    "def objective_function(costs, bees):\n",
    "    value_sum = []\n",
    "    for bee in bees:\n",
    "        values = []\n",
    "        for i in range(len(bee)-1):\n",
    "            value = costs[bee[i]][bee[i+1]] # get costs from current point to next point\n",
    "            values.append(value)\n",
    "        value_sum.append(sum(values))\n",
    "    return value_sum"
   ]
  },
  {
   "cell_type": "code",
   "execution_count": null,
   "metadata": {
    "collapsed": true
   },
   "outputs": [],
   "source": [
    "def chunks(l, n):\n",
    "    # creates chunks of a specific size\n",
    "    # For item i in a range that is a length of l,\n",
    "    for i in range(0, len(l), n):\n",
    "        # Create an index range for l of n items:\n",
    "        yield l[i:i+n]"
   ]
  },
  {
   "cell_type": "code",
   "execution_count": null,
   "metadata": {
    "scrolled": true
   },
   "outputs": [],
   "source": [
    "#bees = [[0] for i in range(B)] #[0] cause they start at the hive\n",
    "bees = [[] for i in range(B)]\n",
    "# for bees which do not start at the hive:\n",
    "\n",
    "\n",
    "\n",
    "#example tsp\n",
    "with open('2.tsp','r') as text:\n",
    "    tsp_read = text.read()\n",
    "    numbers = [int(i) for i in tsp_read.split()]\n",
    "# splits the list into a 150 x 150 list\n",
    "costs = np.array(list(chunks(numbers, 150)))\n",
    "\n",
    "# do that for all bees\n",
    "last_loop = 0\n",
    "stop_cond = False\n",
    "count = 0\n",
    "p_imp_iter = 5\n",
    "while not stop_cond:\n",
    "    bs = []\n",
    "    for bee in bees:\n",
    "        if last_loop:\n",
    "            stop_cond = True\n",
    "            left_nodes, b = forward_pass(last_loop, bee, costs)\n",
    "        else:\n",
    "            left_nodes, b = forward_pass(NC, bee, costs)\n",
    "        bs.append(b)\n",
    "    bees = bs\n",
    "    # partial solution improvement\n",
    "    for i in range(p_imp_iter):\n",
    "        bees = [hc_t(bee, costs) for bee in bees]\n",
    "        \n",
    "    if len(left_nodes) < NC:\n",
    "        last_loop = len(left_nodes)\n",
    "    if len(left_nodes) == 0:\n",
    "        break\n",
    "    count = count+1\n",
    "    if not last_loop:\n",
    "        bees = backward_pass(costs, bees, count)\n",
    "\n",
    "    \n",
    "final_objectives = objective_function(costs, bees)\n",
    "minimal_bee_value = np.min(final_objectives)\n",
    "minimal_solution = bees[np.argmin(final_objectives)]\n",
    "\n",
    "# print(minimal_solution, minimal_bee_value)\n",
    "# print(len(minimal_solution))"
   ]
  }
 ],
 "metadata": {
  "kernelspec": {
   "display_name": "Python 3",
   "language": "python",
   "name": "python3"
  },
  "language_info": {
   "codemirror_mode": {
    "name": "ipython",
    "version": 3
   },
   "file_extension": ".py",
   "mimetype": "text/x-python",
   "name": "python",
   "nbconvert_exporter": "python",
   "pygments_lexer": "ipython3",
   "version": "3.6.1"
  }
 },
 "nbformat": 4,
 "nbformat_minor": 1
}
