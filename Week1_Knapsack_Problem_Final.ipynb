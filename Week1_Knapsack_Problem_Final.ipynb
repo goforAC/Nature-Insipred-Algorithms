{
 "cells": [
  {
   "cell_type": "markdown",
   "metadata": {
    "slideshow": {
     "slide_type": "slide"
    }
   },
   "source": [
    "# Selected Topics in Nature-inspired Algorithms\n",
    "\n",
    "Group 5/ Jannik Zeiser, Caro Gass, AC Meisener, Shahd (Honey) Safarani, Kim Gerbaulet, Adrián Rojas"
   ]
  },
  {
   "cell_type": "markdown",
   "metadata": {
    "slideshow": {
     "slide_type": "subslide"
    }
   },
   "source": [
    "# Knapsack-Problem: \n",
    "\n",
    "given items I1, . . . , In with weights w1, . . . ,wn,\n",
    "values v1, . . . , vn and a weight limit W , maximize value\n",
    "\n",
    "### Nature-inspired Situation:\n",
    "Given your student appartment is a mess and your parents / a sexy friend / many sexy friends \n",
    "are/is coming over for a visit in 2 hours. You would need much longer to clean and tidy up the whole situation. \n",
    "Thus, you need to consider your priorities and calculate the gain e.g what makes the best impression if its clean, where does the visitor look at or which room he/she/ they will enter."
   ]
  },
  {
   "cell_type": "markdown",
   "metadata": {
    "slideshow": {
     "slide_type": "subslide"
    }
   },
   "source": [
    "# Weights and Actions\n",
    "\n",
    "### weight limit0 \"W\": \n",
    "2 hours or 120 minutes"
   ]
  },
  {
   "cell_type": "markdown",
   "metadata": {
    "slideshow": {
     "slide_type": "subslide"
    }
   },
   "source": [
    "### items \"I\" or what's to do: \n",
    "\n",
    "|     Action i        |        Weight w      | Value v|\n",
    "|---------------------|:--------------------:|-------:|\n",
    "|make the bed         |      2 min           |   4    |\n",
    "|do the dishes        |     10 min           |   6    |\n",
    "|vacuum               |      7 min           |   8    |\n",
    "|swipe the floors     |     20 min           |  11    |\n",
    "|fold your clothes    |      8 min           |  10    |\n",
    "|dusting the shelves  |     15 min           |   5    |\n",
    "|clean the kitchen    |     10 min           |   6    |\n",
    "|clean the toilet     |      4 min           |   4    |\n",
    "|clean the shower     |      4 min           |   2    |\n",
    "|clean the basin      |      4 min           |   8    |\n",
    "|clean the sink       |      4 min           |   2    |\n",
    "|bring out the rubbish|      6 min           |   4    |\n",
    "|clean the windows    |     60 min           |  10    |\n",
    "|clean mirrows        |      5 min           |   2    |\n",
    "|shower & get dress   |     20 min           |  20    |\n",
    "|brush your teeth     |      3 min           |   2    |"
   ]
  },
  {
   "cell_type": "markdown",
   "metadata": {
    "slideshow": {
     "slide_type": "subslide"
    }
   },
   "source": [
    "# The neighbourhoods\n",
    "\n",
    "For our neighbourhood conditions we make the following assumption:\n",
    "*0/1 neighbour* - we expand our neighbourhood by randomly dropping or adding an item *0/1 neighbour*\n",
    "\n",
    "###  The small neighbourhood: \n",
    "#### swap neighbourhood + *0/1 neighbour* and its swaps\n",
    "our neighbourhood is the set of the swap neighbourhood of \n",
    "the current state, the *0/1 neighbour* and its swap neighbourhood\n",
    "\n",
    "\n",
    "###  The large neighbourhood: \n",
    "#### transposition neighbourhood + 0/1 and its transpositions\n",
    "our neighbourhood is the set of the transposition neighbourhood \n",
    "of the current state, the *0/1 neighbour* and its transposition neighbourhood\n",
    "\n"
   ]
  },
  {
   "cell_type": "code",
   "execution_count": 14,
   "metadata": {
    "collapsed": true,
    "slideshow": {
     "slide_type": "slide"
    }
   },
   "outputs": [],
   "source": [
    "import numpy as np\n",
    "import pandas as pd\n",
    "import random as rd\n",
    "import itertools\n",
    "\n",
    "# Weight limit\n",
    "W = 120\n",
    "\n",
    "items = [\"make the bed\", \"do the dishes\", \"vacuum\", \"swipe the floors\", \n",
    "         \"fold your clothes\", \"dusting the shelves\", \"clean the kitchen\", \n",
    "         \"clean the toilet\", \"clean the shower\", \"clean the basin\", \n",
    "         \"clean the sink\", \"bring out the rubbish\", \"clean the windows\", \n",
    "         \"clean mirrows\", \"shower & get dress\", \"brush your teeth\"]\n",
    "weights = np.array([2, 10, 7, 20, 8, 15, 10, 4, 4, 4, 4, 6, 60, 5, 20, 3])\n",
    "values =  np.array([4, 6, 8, 11, 10, 5, 6, 4, 2, 8, 2, 4, 10, 2, 20, 2])\n",
    "\n"
   ]
  },
  {
   "cell_type": "code",
   "execution_count": 15,
   "metadata": {
    "collapsed": true,
    "slideshow": {
     "slide_type": "skip"
    }
   },
   "outputs": [],
   "source": [
    "# This cell we finally didn't even use\n",
    "\n",
    "from random import shuffle \n",
    "\n",
    "cleaning_list = pd.DataFrame(columns=['action','weight','value'])\n",
    "\n",
    "cleaning_list['action'] = items\n",
    "cleaning_list['weight'] = weights\n",
    "cleaning_list['value']  = values\n",
    "\n",
    "# random_assignment for Knapsack - the starting assignment\n",
    "# will be above our weight limit thus we have to stop \"cleaning\" \n",
    "# as soon as we run out of time.\n",
    "schedule = shuffle(items)\n",
    "\n",
    "# the stop cleaning function  - not used in the end\n",
    "def time_over(current_schedule, W):\n",
    "    performance = 0\n",
    "    for i in range(0,len(schedule)):\n",
    "        value = cleaning_list['value'][cleaning_list['action' == schedule[i]]]\n",
    "        if (performance + value) > W:\n",
    "            final_schedule = schedule[0:i-1]\n",
    "            return final_schedule, performance\n",
    "    return schedule, performance"
   ]
  },
  {
   "cell_type": "code",
   "execution_count": 16,
   "metadata": {
    "collapsed": true,
    "slideshow": {
     "slide_type": "skip"
    }
   },
   "outputs": [],
   "source": [
    "# Calculates the gain of an assignment x\n",
    "def gain(x):\n",
    "    return np.sum(x*values)\n",
    "\n",
    "# Checks for exceeding the weight limit\n",
    "def above_weight_limit(x):\n",
    "    return np.sum(x*weights)>W\n",
    "\n",
    "# Swaps between two elements and creates a copy of the list\n",
    "def swap(x, idx1, idx2):\n",
    "    l = x.copy()\n",
    "    l[idx1], l[idx2] = l[idx2], l[idx1]\n",
    "    return l\n",
    "\n",
    "#Initialize a feasible random assignment\n",
    "def init():\n",
    "    init_assign = [rd.choice([0,1]) for i in range(len(weights))]\n",
    "    while above_weight_limit(init_assign):\n",
    "        init_assign = [rd.choice([0,1]) for i in range(len(weights))]\n",
    "    return init_assign\n",
    "\n",
    "# Brute Force (neighbourhood = complete set)\n",
    "def brtfrc(x):\n",
    "    powerset = []\n",
    "    for i in itertools.product([0,1], repeat = len(x)):\n",
    "        powerset.append(i)\n",
    "    return powerset\n",
    "# Creates a to-do-list corresponding to a 0/1-list\n",
    "def todo(a):\n",
    "    b = []\n",
    "    a1 = a.copy()\n",
    "    for i in a1: \n",
    "        if i == 1:\n",
    "            b.append(items[a1.index(i)])\n",
    "            a1[a1.index(i)] = 0\n",
    "    return b "
   ]
  },
  {
   "cell_type": "code",
   "execution_count": 17,
   "metadata": {
    "collapsed": true,
    "slideshow": {
     "slide_type": "subslide"
    }
   },
   "outputs": [],
   "source": [
    "#Creates transposition neighbourhood for x\n",
    "def transposes(x):\n",
    "    #neighbours of same number of selected objects\n",
    "    a = [ swap(x, i, j) for i in range(len(x)) for j in range(i+1, len(x)) ]\n",
    "    #Adding or removing an object randomly and getting the neighbors\n",
    "    idx = rd.choice(range(0, len(x)))\n",
    "    x1 = x.copy()\n",
    "    x1[idx] = 0 if x1[idx]==1 else 1\n",
    "    a1 = [ swap(x1, i, j) for i in range(len(x1)) for j in range(i+1, len(x1)) ]\n",
    "    #Merging both neighborhoods\n",
    "    a = [j for i in zip(a,a1) for j in i]\n",
    "    return  list( list(x) for x in set(tuple(i) for i in a if i!=x) )"
   ]
  },
  {
   "cell_type": "code",
   "execution_count": 18,
   "metadata": {
    "collapsed": true,
    "slideshow": {
     "slide_type": "fragment"
    }
   },
   "outputs": [],
   "source": [
    "#Creates swap neighbourhood for x\n",
    "def swaps(x):\n",
    "    #neighbours of same number of selected objects\n",
    "    a = [ swap(x, i, (i+1)%len(x)) for i in range(len(x)) ] \n",
    "    #Adding or removing an object randomly and getting the neighbors\n",
    "    idx = rd.choice(range(0, len(x)))  #\n",
    "    x1 = x.copy()\n",
    "    x1[idx] = 0 if x1[idx]==1 else 1\n",
    "    a1 = [ swap(x1, i, (i+1)%len(x1)) for i in range(len(x1)) ]\n",
    "    #Merging both neighborhoods\n",
    "    a = [j for i in zip(a,a1) for j in i]\n",
    "    return  list( list(x) for x in set(tuple(i) for i in a if i!=x) )"
   ]
  },
  {
   "cell_type": "code",
   "execution_count": 19,
   "metadata": {
    "collapsed": true,
    "slideshow": {
     "slide_type": "subslide"
    }
   },
   "outputs": [],
   "source": [
    "# Hill_Climbing swap neigbourhood\n",
    "def hc_s(a=None):\n",
    "    if not a:\n",
    "        a = init()  # generate initial assignment if non is given\n",
    "    steps = 0  # iteration counter\n",
    "    \n",
    "    while True:\n",
    "        steps += 1  # count iterations\n",
    "        neighbours = swaps(a) # create full swap neighbourhood\n",
    "        neighbours = [n for n in neighbours if not above_weight_limit(n)]  # collect only neigbours below the weight limit\n",
    "        if not neighbours: break  # neighbours are empty if all neighbours are above weight limit\n",
    "        gains = [gain(nbr) for nbr in neighbours]  # the value gains of our neighbours\n",
    "        if max(gains) <= gain(a): break # breaks if all gains are smaller than the current gain\n",
    "        a = neighbours[gains.index(max(gains))]  # best neighbour becomes new state\n",
    "    return a, gain(a), steps  # solution, optimal preformance/gain we get, iterations"
   ]
  },
  {
   "cell_type": "code",
   "execution_count": 20,
   "metadata": {
    "collapsed": true,
    "slideshow": {
     "slide_type": "subslide"
    }
   },
   "outputs": [],
   "source": [
    "# Hill_Climbing transposition neighbourhood\n",
    "def hc_t(a=None):\n",
    "    if not a:\n",
    "        a = init()  # generate initial assignment if non is given\n",
    "    steps = 0\n",
    "    \n",
    "    while True:\n",
    "        steps += 1\n",
    "        neighbours = transposes(a) # create full transposition neighbourhood\n",
    "        neighbours = [n for n in neighbours if not above_weight_limit(n)]\n",
    "        if not neighbours: break\n",
    "        gains = [gain(nbr) for nbr in neighbours]\n",
    "        if max(gains) <= gain(a): break\n",
    "        a = neighbours[gains.index(max(gains))]\n",
    "    return a, gain(a), steps  # solution, optimal performance/gain we get, iterations"
   ]
  },
  {
   "cell_type": "code",
   "execution_count": 21,
   "metadata": {
    "collapsed": true,
    "slideshow": {
     "slide_type": "subslide"
    }
   },
   "outputs": [],
   "source": [
    "## First Choice Hill_Climbing\n",
    "\n",
    "# First Choice Hill_Climbing swap\n",
    "def fchc_s(a=None):\n",
    "    if not a:\n",
    "        a = init()  # generate initial assignment if non is given  \n",
    "    steps = 0\n",
    "    while True:\n",
    "        current_sol = a.copy()\n",
    "        current_gain = gain(a)\n",
    "        steps += 1\n",
    "        neighbours = swaps(a) #swap or transposition\n",
    "        neighbours = [n for n in neighbours if not above_weight_limit(n)]\n",
    "        if not neighbours: break\n",
    "        for item in neighbours:\n",
    "            if gain(item) > current_gain:\n",
    "                a = item  #solution, optimal cost we got, iterations\n",
    "                break\n",
    "        if current_sol==a : break\n",
    "    return a, gain(a), steps"
   ]
  },
  {
   "cell_type": "code",
   "execution_count": 22,
   "metadata": {
    "collapsed": true,
    "slideshow": {
     "slide_type": "subslide"
    }
   },
   "outputs": [],
   "source": [
    "# First Choice Hill_Climbing transpose\n",
    "def fchc_t(a=None):\n",
    "    if not a:\n",
    "        a = init() # generate initial assignment if non is given\n",
    "    steps = 0  # iteration counter\n",
    "    \n",
    "    while True:\n",
    "        current_sol = a.copy()\n",
    "        current_gain = gain(a)\n",
    "        steps += 1  # count iterations\n",
    "        neighbours = transposes(a) # swap or transposition\n",
    "        neighbours = [n for n in neighbours if not above_weight_limit(n)]\n",
    "        if not neighbours: break\n",
    "        for item in neighbours:\n",
    "            if gain(item) > current_gain:\n",
    "                a = item  #solution, optimal cost we got, iterations\n",
    "                break\n",
    "        if current_sol==a : break\n",
    "    return a, gain(a), steps  #solution, optimal performance we get, iterations"
   ]
  },
  {
   "cell_type": "code",
   "execution_count": 23,
   "metadata": {
    "collapsed": true,
    "slideshow": {
     "slide_type": "subslide"
    }
   },
   "outputs": [],
   "source": [
    "#Hill_Climbing Whole Set\n",
    "\n",
    "def hc_ws(a=None):\n",
    "    if not a:\n",
    "        a = init()  # generate initial assignment if non is given\n",
    "    steps = 0\n",
    "    \n",
    "    while True:\n",
    "        steps += 1\n",
    "        neighbours = brtfrc(a) # create whole set neighbourhood\n",
    "        neighbours = [n for n in neighbours if not above_weight_limit(n)]\n",
    "        if not neighbours: break\n",
    "        gains = [gain(nbr) for nbr in neighbours]\n",
    "        if max(gains) <= gain(a): break\n",
    "        a = neighbours[gains.index(max(gains))]\n",
    "    return a, gain(a), steps  # solution, optimal performance/gain we get, iterations"
   ]
  },
  {
   "cell_type": "code",
   "execution_count": 24,
   "metadata": {
    "collapsed": true,
    "slideshow": {
     "slide_type": "fragment"
    }
   },
   "outputs": [],
   "source": [
    "#Number of test iterations\n",
    "Num_test = 100\n",
    "\n",
    "perf_hc_s = 0\n",
    "perf_hc_t = 0\n",
    "perf_fchc_s = 0\n",
    "perf_fchc_t = 0\n",
    "\n",
    "steps_hc_s = 0\n",
    "steps_hc_t = 0\n",
    "steps_fchc_s = 0\n",
    "steps_fchc_t = 0"
   ]
  },
  {
   "cell_type": "code",
   "execution_count": 25,
   "metadata": {
    "slideshow": {
     "slide_type": "subslide"
    }
   },
   "outputs": [
    {
     "name": "stdout",
     "output_type": "stream",
     "text": [
      "Iterations: 100\n",
      "HC with swap | Average performance: 73.71 | Average steps: 4.87\n",
      "HC with transposition | Average performance: 80.93 | Average steps: 5.36\n",
      "First-Choice HC with swap | Average performance: 71.86 | Average steps: 7.1\n",
      "First-Choice HC with transposition | Average performance: 82.51 | Average steps: 10.91\n",
      "First-Choice Hill-Climbing with whole set neighbourhood: (1, 1, 1, 1, 1, 1, 1, 1, 0, 1, 1, 1, 0, 1, 1, 1) 92 2\n",
      "['clean the toilet', 'vacuum', 'clean mirrows', 'dusting the shelves', 'fold your clothes', 'swipe the floors', 'clean the sink', 'bring out the rubbish', 'clean the kitchen', 'clean the basin', 'brush your teeth', 'shower & get dress', 'do the dishes', 'clean the shower']\n"
     ]
    }
   ],
   "source": [
    "for i in range (0,Num_test):\n",
    "    a = init()\n",
    "    perf_hc_s = perf_hc_s + hc_s(a)[1]\n",
    "    perf_hc_t = perf_hc_t + hc_t(a)[1]\n",
    "    perf_fchc_s = perf_fchc_s + fchc_s(a)[1]\n",
    "    perf_fchc_t = perf_fchc_t + fchc_t(a)[1]\n",
    "    \n",
    "    steps_hc_s = steps_hc_s + hc_s(a)[2]\n",
    "    steps_hc_t = steps_hc_t + hc_t(a)[2]\n",
    "    steps_fchc_s = steps_fchc_s + fchc_s(a)[2]\n",
    "    steps_fchc_t = steps_fchc_t + fchc_t(a)[2]\n",
    "\n",
    "print(\"Iterations:\", Num_test)\n",
    "print(\"HC with swap | Average performance:\", perf_hc_s/Num_test, \"| Average steps:\", steps_hc_s/Num_test)\n",
    "print(\"HC with transposition | Average performance:\", perf_hc_t/Num_test,\"| Average steps:\", steps_hc_t/Num_test)\n",
    "print(\"First-Choice HC with swap | Average performance:\", perf_fchc_s/Num_test,\"| Average steps:\", steps_fchc_s/Num_test)\n",
    "print(\"First-Choice HC with transposition | Average performance:\", perf_fchc_t/Num_test,\"| Average steps:\", steps_fchc_t/Num_test)\n",
    "lwhole, gainwhole, stepswhole = hc_ws(a)\n",
    "print(\"First-Choice Hill-Climbing with whole set neighbourhood:\", lwhole, gainwhole, stepswhole)\n",
    "print(todo(list(lwhole)))"
   ]
  }
 ],
 "metadata": {
  "celltoolbar": "Slideshow",
  "kernelspec": {
   "display_name": "Python 3",
   "language": "python",
   "name": "python3"
  },
  "language_info": {
   "codemirror_mode": {
    "name": "ipython",
    "version": 3
   },
   "file_extension": ".py",
   "mimetype": "text/x-python",
   "name": "python",
   "nbconvert_exporter": "python",
   "pygments_lexer": "ipython3",
   "version": "3.6.1"
  }
 },
 "nbformat": 4,
 "nbformat_minor": 2
}
